{
 "cells": [
  {
   "cell_type": "markdown",
   "id": "ceb3fb54",
   "metadata": {},
   "source": [
    "# DAPI nuclei detection using cellpose\n",
    "\n",
    "#### This script aims to segment nuclei using DAPI-stained images for downstream analysis. For this purpose, machine learning model 'nuclei' from cellpose is used. It was tested and works pretty well, but:\n",
    "\n",
    "- the newest version of cellpose (cellpose 4 as of 25.8.2025) is no longer compatible with the nuclei model and only 'cpasm' model downloads (which should be able to handle everything). The problem is, that this model is too computationally heavy for computers without GPU (like the one I use here). At one point I tested it on one image and it took over 20min (after that I interrupted the kernel as there is no point having script that takes that long). That is the reason why the cellpose this script uses is cellpose2.2.3.\n",
    "\n",
    "- currently takes about ~1min per image\n",
    "\n",
    "- has problems with very nuclei-dense areas, but is nonetheless very accurate\n",
    "\n",
    "- the python version is also Python 3.10.18 (older from the base env.), because it's compatible with the version of cellpose this script uses"
   ]
  },
  {
   "cell_type": "code",
   "execution_count": null,
   "id": "eb64ad8f",
   "metadata": {},
   "outputs": [],
   "source": [
    "### LIBRARY\n",
    "import os\n",
    "from skimage import io\n",
    "import glob\n",
    "from natsort import natsorted\n",
    "from skimage.color import label2rgb\n",
    "from skimage.io import imsave\n",
    "from statistics import mean, stdev\n",
    "\n",
    "## cellpose\n",
    "from cellpose import models"
   ]
  },
  {
   "cell_type": "code",
   "execution_count": null,
   "id": "958ad11f",
   "metadata": {},
   "outputs": [],
   "source": [
    "### PARAMETERS\n",
    "filename = 'C:/Users/terez/Documents/Skola/Ludwig-Maximilians_Universitat_Munchen/Research course Moretti lab/Microscopy data etc/EXP6/Macrophages_and_ECs/ImmEpis_EXP6_d1_GFP_cTnT_CD31'\n",
    "\n",
    "# important:\n",
    "diameter_user_select = 10\n",
    "# the nuclei model heavily leans on the user-selected diameter (i.e. expected diameter of the nuclei \n",
    "# in pixels). Depending on the magnification of the microscope images, this parameter also needs to change.\n",
    "\n",
    "\n",
    "# filename extract\n",
    "last_folder = os.path.basename(filename)\n",
    "# to save masks:\n",
    "folder1 = f'{filename}/masks_nuclei'\n",
    "os.makedirs(folder1, exist_ok=True)\n",
    "# output folder:\n",
    "output_folder = 'C:/Users/terez/Documents/Skola/Ludwig-Maximilians_Universitat_Munchen/Research course Moretti lab/Microscopy data etc/EXP6/EC_analysis'\n",
    "\n",
    "print(last_folder)\n"
   ]
  },
  {
   "cell_type": "code",
   "execution_count": null,
   "id": "aaf0ec8a",
   "metadata": {},
   "outputs": [],
   "source": [
    "### LOADING IMAGES\n",
    "\n",
    "## DAPI in 405 channel:\n",
    "list_of_dapi_files = natsorted(glob.glob(f\"{filename}/*ch00*.tif\"))\n",
    "images_dapi = {}\n",
    "images_dapi_list = []\n",
    "for file in list_of_dapi_files:\n",
    "    img = io.imread(file)\n",
    "    images_dapi[os.path.basename(file)] = img\n",
    "    images_dapi_list.append(img)\n",
    "\n",
    "print(f\"to check: \\n number of 405 images: \\t {len(images_dapi)}\")"
   ]
  },
  {
   "cell_type": "code",
   "execution_count": null,
   "id": "50c0f62b",
   "metadata": {},
   "outputs": [],
   "source": [
    "### CELLPOSE implement (nuclei count)\n",
    "\n",
    "# Load the built-in nuclei model\n",
    "model = models.Cellpose(model_type=\"nuclei\")\n",
    "\n",
    "nuclei_masks = {}\n",
    "\n",
    "quality_check = {}\n",
    "\n",
    "for name,img in images_dapi.items():\n",
    "    res = model.eval(img, channels=[0,0], diameter=diameter_user_select) #diameter=None worked well\n",
    "    mask, flow, style, diam = res\n",
    "\n",
    "    ## Visualisation\n",
    "    coloured_mask = label2rgb(mask, bg_label=0, bg_color=(0,0,0))\n",
    "\n",
    "    ## Saving into dict\n",
    "    nuclei_masks[name] = {\n",
    "        'nuclei_mask': mask,\n",
    "        'colour_mask': coloured_mask\n",
    "    }\n",
    "\n",
    "    nuclei_count = mask.max()\n",
    "    nuclei_sizes = []\n",
    "\n",
    "    nuclei_objects = regionprops(mask, img)\n",
    "    for obj in nuclei_objects:\n",
    "        nucleus_area = obj.area\n",
    "        nuclei_sizes.append(nucleus_area)\n",
    "\n",
    "    ## Saving into new folders\n",
    "\n",
    "    base_name = os.path.splitext(name)[0]\n",
    "\n",
    "    imsave(os.path.join(folder1, f'{base_name}_mask.tif'), mask.astype(np.uint16))\n",
    "    imsave(os.path.join(folder1, f'{base_name}_colour_mask.png'), (coloured_mask * 255).astype(np.uint8))\n",
    "\n",
    "    quality_check[base_name] = {\n",
    "        'nuclei count': nuclei_count,\n",
    "        'nuclei size average': mean(nuclei_sizes),\n",
    "        'nuclei size stdev': stdev(nuclei_sizes)\n",
    "    }\n",
    "\n",
    "    "
   ]
  },
  {
   "cell_type": "code",
   "execution_count": null,
   "id": "be40fec8",
   "metadata": {},
   "outputs": [],
   "source": [
    "### DATAFRAME\n",
    "df_stain1 = pd.DataFrame.from_dict(quality_check, orient='index')\n",
    "\n",
    "output_path = f'{output_folder}/{last_folder}.xlsx'\n",
    "df_stain1.to_excel(output_path)"
   ]
  }
 ],
 "metadata": {
  "kernelspec": {
   "display_name": "cellpose-new-env",
   "language": "python",
   "name": "python3"
  },
  "language_info": {
   "codemirror_mode": {
    "name": "ipython",
    "version": 3
   },
   "file_extension": ".py",
   "mimetype": "text/x-python",
   "name": "python",
   "nbconvert_exporter": "python",
   "pygments_lexer": "ipython3",
   "version": "3.10.18"
  }
 },
 "nbformat": 4,
 "nbformat_minor": 5
}
